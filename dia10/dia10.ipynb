{
 "cells": [
  {
   "cell_type": "code",
   "execution_count": 2,
   "metadata": {},
   "outputs": [],
   "source": [
    "import pandas as pd\n",
    "import numpy as np\n",
    "\n"
   ]
  },
  {
   "cell_type": "code",
   "execution_count": 4,
   "metadata": {},
   "outputs": [],
   "source": [
    "# CRIANDO E OPERANDO UM DATAFRAME COM NUMPY E PANDAS\n",
    "\n",
    "data = {'vendas ': [100,200,300,400,500,600,700,800,\n",
    "                    900,1000]}\n",
    "\n",
    "df = pd.DataFrame(data)\n",
    "\n"
   ]
  },
  {
   "cell_type": "code",
   "execution_count": 5,
   "metadata": {},
   "outputs": [
    {
     "data": {
      "text/plain": [
       "{'vendas ': [100, 200, 300, 400, 500, 600, 700, 800, 900, 1000]}"
      ]
     },
     "execution_count": 5,
     "metadata": {},
     "output_type": "execute_result"
    }
   ],
   "source": [
    "data"
   ]
  },
  {
   "cell_type": "markdown",
   "metadata": {},
   "source": [
    "# OPERAÇOES:\n",
    " MEDIA\n",
    " MEDIANA\n",
    " DESVIO PADRÃO\n",
    " MÁXIMO\n",
    " MINIMO"
   ]
  },
  {
   "cell_type": "code",
   "execution_count": 8,
   "metadata": {},
   "outputs": [
    {
     "name": "stdout",
     "output_type": "stream",
     "text": [
      "A média é: 550.0\n"
     ]
    }
   ],
   "source": [
    "media = df['vendas '].mean()\n",
    "print (\"A média é:\",media)"
   ]
  },
  {
   "cell_type": "code",
   "execution_count": 10,
   "metadata": {},
   "outputs": [
    {
     "name": "stdout",
     "output_type": "stream",
     "text": [
      "A mediana é: 550.0\n"
     ]
    }
   ],
   "source": [
    "mediana = df['vendas '].median()\n",
    "print(\"A mediana é:\", mediana)"
   ]
  },
  {
   "cell_type": "code",
   "execution_count": 11,
   "metadata": {},
   "outputs": [
    {
     "name": "stdout",
     "output_type": "stream",
     "text": [
      "O desvio padrão é 302.7650354097492\n"
     ]
    }
   ],
   "source": [
    "desvio_padrao = df['vendas '].std()\n",
    "print (\"O desvio padrão é\",desvio_padrao)"
   ]
  },
  {
   "cell_type": "code",
   "execution_count": 13,
   "metadata": {},
   "outputs": [
    {
     "name": "stdout",
     "output_type": "stream",
     "text": [
      "O máximo é : 1000\n"
     ]
    }
   ],
   "source": [
    "maximo = df['vendas '].max()\n",
    "print (\"O máximo é :\" , maximo)"
   ]
  },
  {
   "cell_type": "code",
   "execution_count": 14,
   "metadata": {},
   "outputs": [
    {
     "name": "stdout",
     "output_type": "stream",
     "text": [
      "O minino é : 100\n"
     ]
    }
   ],
   "source": [
    "minimo = df['vendas '].min()\n",
    "print(\"O minino é :\", minimo)"
   ]
  },
  {
   "cell_type": "code",
   "execution_count": 16,
   "metadata": {},
   "outputs": [
    {
     "name": "stdout",
     "output_type": "stream",
     "text": [
      "           vendas \n",
      "count    10.000000\n",
      "mean    550.000000\n",
      "std     302.765035\n",
      "min     100.000000\n",
      "25%     325.000000\n",
      "50%     550.000000\n",
      "75%     775.000000\n",
      "max    1000.000000\n"
     ]
    }
   ],
   "source": [
    "#FUNÇÃO DESCRIBE\n",
    "\n",
    "print(df.describe())"
   ]
  }
 ],
 "metadata": {
  "kernelspec": {
   "display_name": "Python 3",
   "language": "python",
   "name": "python3"
  },
  "language_info": {
   "codemirror_mode": {
    "name": "ipython",
    "version": 3
   },
   "file_extension": ".py",
   "mimetype": "text/x-python",
   "name": "python",
   "nbconvert_exporter": "python",
   "pygments_lexer": "ipython3",
   "version": "3.12.4"
  }
 },
 "nbformat": 4,
 "nbformat_minor": 2
}
